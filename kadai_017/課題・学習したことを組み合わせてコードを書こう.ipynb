{
  "nbformat": 4,
  "nbformat_minor": 0,
  "metadata": {
    "colab": {
      "provenance": []
    },
    "kernelspec": {
      "name": "python3",
      "display_name": "Python 3"
    },
    "language_info": {
      "name": "python"
    }
  },
  "cells": [
    {
      "cell_type": "code",
      "source": [
        "#　Humanクラスを定義する\n",
        "class Human:\n",
        "\n",
        "    #コンストラクタ化（初期化） 名前と年齢\n",
        "    def __init__(self,name, age):\n",
        "        self.name = name\n",
        "        self.age = age\n",
        "\n",
        "# メソッド　check_adultで年齢が20歳以上か確認する\n",
        "    def check_adult(self):\n",
        "        #　年齢が20以上なら\n",
        "        if self.age>= 20:\n",
        "            print(f\"{self.name}さんは大人です。\")\n",
        "        # それ以外なら\n",
        "        else:\n",
        "            print(f\"{self.name}さんは大人ではありません。\")\n",
        "\n",
        "# Humanクラスのインスタンスを複数生成\n",
        "human1 = Human(\"太郎\", 20)\n",
        "human2 = Human(\"花子\", 18)\n",
        "human3 = Human(\"一郎\", 25)\n",
        "human4 = Human(\"二郎\", 15)\n",
        "\n",
        "# 生成したインスタンスをリストに追加\n",
        "human_list =[human1,human2,human3,human4]\n",
        "\n",
        "# human_listの要素数分だけchek_adultメソッドを呼び出す\n",
        "for human in human_list:\n",
        "    human.check_adult()\n",
        "\n",
        "\n"
      ],
      "metadata": {
        "colab": {
          "base_uri": "https://localhost:8080/"
        },
        "id": "euCr8-UPerc4",
        "outputId": "f1bb20f1-d16d-4321-dedc-c47896432dbf"
      },
      "execution_count": null,
      "outputs": [
        {
          "output_type": "stream",
          "name": "stdout",
          "text": [
            "太郎さんは大人です。\n",
            "花子さんは大人ではありません。\n",
            "一郎さんは大人です。\n",
            "二郎さんは大人ではありません。\n"
          ]
        }
      ]
    },
    {
      "cell_type": "code",
      "source": [],
      "metadata": {
        "id": "yikvxGs8u2br"
      },
      "execution_count": null,
      "outputs": []
    }
  ]
}