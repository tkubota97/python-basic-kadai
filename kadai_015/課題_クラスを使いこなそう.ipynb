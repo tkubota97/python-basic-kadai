{
  "nbformat": 4,
  "nbformat_minor": 0,
  "metadata": {
    "colab": {
      "provenance": []
    },
    "kernelspec": {
      "name": "python3",
      "display_name": "Python 3"
    },
    "language_info": {
      "name": "python"
    }
  },
  "cells": [
    {
      "cell_type": "code",
      "source": [
        "# 課題：クラスをつかいこなそう\n",
        "\n",
        "# クラスを定義する\n",
        "class Human:\n",
        "    #コンストラクタ\n",
        "    def __init__(self, name, age):\n",
        "        self.name = name\n",
        "        self.age = age\n",
        "\n",
        "    # 名前と年齢を出力するメソッド\n",
        "    def printinfo(self):\n",
        "        print(self.name,self.age)\n",
        "\n",
        "# Humanクラスのインスタンス\n",
        "person = Human(\"鈴木\", 30)\n",
        "\n",
        "# メソッドを呼び出して出力\n",
        "person.printinfo()\n",
        "\n",
        "\n",
        "\n",
        "\n"
      ],
      "metadata": {
        "colab": {
          "base_uri": "https://localhost:8080/"
        },
        "id": "ze_cZOE3I__e",
        "outputId": "62749a39-8724-462a-8d30-dd86051e107d"
      },
      "execution_count": null,
      "outputs": [
        {
          "output_type": "stream",
          "name": "stdout",
          "text": [
            "鈴木 30\n"
          ]
        }
      ]
    }
  ]
}