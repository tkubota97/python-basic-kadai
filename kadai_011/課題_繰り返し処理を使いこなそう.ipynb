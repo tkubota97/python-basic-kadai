{
  "nbformat": 4,
  "nbformat_minor": 0,
  "metadata": {
    "colab": {
      "provenance": []
    },
    "kernelspec": {
      "name": "python3",
      "display_name": "Python 3"
    },
    "language_info": {
      "name": "python"
    }
  },
  "cells": [
    {
      "cell_type": "code",
      "execution_count": null,
      "metadata": {
        "colab": {
          "base_uri": "https://localhost:8080/"
        },
        "id": "cthZGzYNuYSP",
        "outputId": "189665ed-66de-463e-be08-e77d2c136b17"
      },
      "outputs": [
        {
          "output_type": "stream",
          "name": "stdout",
          "text": [
            "水\n",
            "金\n",
            "地\n",
            "火\n",
            "木\n",
            "土\n",
            "天\n",
            "海\n",
            "冥\n",
            "水\n",
            "金\n",
            "地\n",
            "火\n",
            "木\n",
            "土\n",
            "天\n",
            "海\n",
            "冥\n"
          ]
        }
      ],
      "source": [
        "# リスト\n",
        "array_lists = [\"水\", \"金\", \"地\", \"火\", \"木\", \"土\", \"天\", \"海\", \"冥\"]\n",
        "\n",
        "\n",
        "# for文を使い、array_listsの要素を出力する。\n",
        "for array_list in array_lists:\n",
        "    print(array_list)\n",
        "\n",
        "# while文を使い,array_listsの要素を1つずつ順番に出力する。\n",
        "# iに0を代入して「水」から開始する設定をする\n",
        "i = 0\n",
        "\n",
        "# len(array_lists)→array_listsの要素の数を返す。9個の要素\n",
        "while i < len(array_lists):\n",
        "    print(array_lists[i])\n",
        "    i += 1\n",
        "\n"
      ]
    },
    {
      "cell_type": "code",
      "source": [],
      "metadata": {
        "id": "uYA6I75SDfhP"
      },
      "execution_count": null,
      "outputs": []
    }
  ]
}