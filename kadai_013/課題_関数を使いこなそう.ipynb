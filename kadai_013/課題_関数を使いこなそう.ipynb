{
  "nbformat": 4,
  "nbformat_minor": 0,
  "metadata": {
    "colab": {
      "provenance": []
    },
    "kernelspec": {
      "name": "python3",
      "display_name": "Python 3"
    },
    "language_info": {
      "name": "python"
    }
  },
  "cells": [
    {
      "cell_type": "code",
      "execution_count": null,
      "metadata": {
        "id": "g_g11JSLhNZ8",
        "colab": {
          "base_uri": "https://localhost:8080/"
        },
        "outputId": "75e7a359-24e6-4b21-fbdf-7b19adcf6dc3"
      },
      "outputs": [
        {
          "output_type": "stream",
          "name": "stdout",
          "text": [
            "1100円\n"
          ]
        }
      ],
      "source": [
        "# 消費税を加えた計算結果を返す関数\n",
        "def calculate_total_price(price, tax_rate):\n",
        "    # 税込み価格を計算する\n",
        "    total_price = price + (price * tax_rate)\n",
        "    # 計算結果を戻り値として返す\n",
        "    return int(total_price)\n",
        "\n",
        "# 第1引数に商品金額\n",
        "price = 1000\n",
        "# 第2引数に消費税10%\n",
        "tax_rate = 0.1\n",
        "\n",
        "total_price = calculate_total_price(price, tax_rate)\n",
        "print(f\"{total_price}円\")\n"
      ]
    }
  ]
}