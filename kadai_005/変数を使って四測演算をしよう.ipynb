{
  "nbformat": 4,
  "nbformat_minor": 0,
  "metadata": {
    "colab": {
      "provenance": []
    },
    "kernelspec": {
      "name": "python3",
      "display_name": "Python 3"
    },
    "language_info": {
      "name": "python"
    }
  },
  "cells": [
    {
      "cell_type": "code",
      "execution_count": null,
      "metadata": {
        "colab": {
          "base_uri": "https://localhost:8080/"
        },
        "id": "llWoJUnA_QC3",
        "outputId": "02722de1-2e51-4292-bb05-ada2f55604f4"
      },
      "outputs": [
        {
          "output_type": "stream",
          "name": "stdout",
          "text": [
            "75.0㎠\n"
          ]
        }
      ],
      "source": [
        "# 上辺\n",
        "top_side = 10\n",
        "\n",
        "# 下辺\n",
        "under_side = 20\n",
        "\n",
        "# 高さ\n",
        "height = 5\n",
        "\n",
        "# 面積\n",
        "area = (top_side + under_side) * height / 2\n",
        "\n",
        "# 出力結果 「○○㎠」と表示する\n",
        "print(str(area) + \"㎠\")\n"
      ]
    },
    {
      "cell_type": "code",
      "execution_count": null,
      "metadata": {
        "colab": {
          "base_uri": "https://localhost:8080/"
        },
        "outputId": "74c9555e-4a0b-45f1-d2c7-9d15292c1501",
        "id": "Lnv3ZsgdFmHy"
      },
      "outputs": [
        {
          "output_type": "stream",
          "name": "stdout",
          "text": [
            "75.0 cm²\n"
          ]
        }
      ],
      "source": [
        "# 上辺\n",
        "top_side = 10\n",
        "\n",
        "# 下辺\n",
        "under_side = 20\n",
        "\n",
        "# 高さ\n",
        "height = 5\n",
        "\n",
        "# 面積\n",
        "area = (top_side + under_side) * height / 2\n",
        "\n",
        "# 出力結果 「○○㎠」と表示する\n",
        "print(f\"{area} cm²\")\n"
      ]
    },
    {
      "cell_type": "code",
      "source": [],
      "metadata": {
        "id": "QhwsRIyOBrD_"
      },
      "execution_count": null,
      "outputs": []
    }
  ]
}